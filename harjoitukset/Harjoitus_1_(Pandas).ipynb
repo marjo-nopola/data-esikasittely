{
 "cells": [
  {
   "cell_type": "markdown",
   "metadata": {},
   "source": [
    "## Pandas-tehtävät"
   ]
  },
  {
   "cell_type": "markdown",
   "metadata": {},
   "source": [
    "#### Huom: Koko harjoituksen ajan on tarkoitus käsitellä alkuperäistä dataframea!"
   ]
  },
  {
   "cell_type": "markdown",
   "metadata": {},
   "source": [
    "#### Tehtävä 1. Lisää tarvittavat kirjastot ja lue `testidata.csv` niminen tiedosto DataFrame-objektiin"
   ]
  },
  {
   "cell_type": "code",
   "execution_count": 25,
   "metadata": {},
   "outputs": [],
   "source": [
    "import pandas as pd\n",
    "import numpy as np\n",
    "dataframe = pd.read_csv(\"testidata.csv\", index_col = 0)"
   ]
  },
  {
   "cell_type": "markdown",
   "metadata": {},
   "source": [
    "#### Tehtävä 2. Tulosta DataFrame-objektin viisi viimeistä riviä"
   ]
  },
  {
   "cell_type": "code",
   "execution_count": 26,
   "metadata": {},
   "outputs": [
    {
     "data": {
      "text/html": [
       "<div>\n",
       "<style scoped>\n",
       "    .dataframe tbody tr th:only-of-type {\n",
       "        vertical-align: middle;\n",
       "    }\n",
       "\n",
       "    .dataframe tbody tr th {\n",
       "        vertical-align: top;\n",
       "    }\n",
       "\n",
       "    .dataframe thead th {\n",
       "        text-align: right;\n",
       "    }\n",
       "</style>\n",
       "<table border=\"1\" class=\"dataframe\">\n",
       "  <thead>\n",
       "    <tr style=\"text-align: right;\">\n",
       "      <th></th>\n",
       "      <th>sarake1</th>\n",
       "      <th>sarake2</th>\n",
       "      <th>sarake3</th>\n",
       "    </tr>\n",
       "  </thead>\n",
       "  <tbody>\n",
       "    <tr>\n",
       "      <th>20</th>\n",
       "      <td>0.300589</td>\n",
       "      <td>0.455980</td>\n",
       "      <td>0.292225</td>\n",
       "    </tr>\n",
       "    <tr>\n",
       "      <th>21</th>\n",
       "      <td>0.859970</td>\n",
       "      <td>0.346539</td>\n",
       "      <td>0.364629</td>\n",
       "    </tr>\n",
       "    <tr>\n",
       "      <th>22</th>\n",
       "      <td>0.842364</td>\n",
       "      <td>0.093485</td>\n",
       "      <td>0.662066</td>\n",
       "    </tr>\n",
       "    <tr>\n",
       "      <th>23</th>\n",
       "      <td>0.781693</td>\n",
       "      <td>0.573344</td>\n",
       "      <td>0.815692</td>\n",
       "    </tr>\n",
       "    <tr>\n",
       "      <th>24</th>\n",
       "      <td>0.788949</td>\n",
       "      <td>0.945625</td>\n",
       "      <td>0.852690</td>\n",
       "    </tr>\n",
       "  </tbody>\n",
       "</table>\n",
       "</div>"
      ],
      "text/plain": [
       "     sarake1   sarake2   sarake3\n",
       "20  0.300589  0.455980  0.292225\n",
       "21  0.859970  0.346539  0.364629\n",
       "22  0.842364  0.093485  0.662066\n",
       "23  0.781693  0.573344  0.815692\n",
       "24  0.788949  0.945625  0.852690"
      ]
     },
     "execution_count": 26,
     "metadata": {},
     "output_type": "execute_result"
    }
   ],
   "source": [
    "dataframe.tail(5)"
   ]
  },
  {
   "cell_type": "markdown",
   "metadata": {},
   "source": [
    "#### Tehtävä 3. Tulosta datan sarakkeiden otsikot list-objektina"
   ]
  },
  {
   "cell_type": "code",
   "execution_count": 27,
   "metadata": {},
   "outputs": [
    {
     "data": {
      "text/plain": [
       "['sarake1', 'sarake2', 'sarake3']"
      ]
     },
     "execution_count": 27,
     "metadata": {},
     "output_type": "execute_result"
    }
   ],
   "source": [
    "columns = list(dataframe)\n",
    "columns"
   ]
  },
  {
   "cell_type": "markdown",
   "metadata": {},
   "source": [
    "#### Tehtävä 4. Tulosta `sarake2`:n pituus"
   ]
  },
  {
   "cell_type": "code",
   "execution_count": 28,
   "metadata": {},
   "outputs": [
    {
     "data": {
      "text/plain": [
       "25"
      ]
     },
     "execution_count": 28,
     "metadata": {},
     "output_type": "execute_result"
    }
   ],
   "source": [
    "column2 = dataframe[\"sarake2\"]\n",
    "len(column2)"
   ]
  },
  {
   "cell_type": "markdown",
   "metadata": {},
   "source": [
    "#### Tehtävä 5. Tulosta datan ensimmäinen rivin tiedot"
   ]
  },
  {
   "cell_type": "code",
   "execution_count": 29,
   "metadata": {},
   "outputs": [
    {
     "data": {
      "text/html": [
       "<div>\n",
       "<style scoped>\n",
       "    .dataframe tbody tr th:only-of-type {\n",
       "        vertical-align: middle;\n",
       "    }\n",
       "\n",
       "    .dataframe tbody tr th {\n",
       "        vertical-align: top;\n",
       "    }\n",
       "\n",
       "    .dataframe thead th {\n",
       "        text-align: right;\n",
       "    }\n",
       "</style>\n",
       "<table border=\"1\" class=\"dataframe\">\n",
       "  <thead>\n",
       "    <tr style=\"text-align: right;\">\n",
       "      <th></th>\n",
       "      <th>sarake1</th>\n",
       "      <th>sarake2</th>\n",
       "      <th>sarake3</th>\n",
       "    </tr>\n",
       "  </thead>\n",
       "  <tbody>\n",
       "    <tr>\n",
       "      <th>0</th>\n",
       "      <td>0.319219</td>\n",
       "      <td>0.380058</td>\n",
       "      <td>0.919389</td>\n",
       "    </tr>\n",
       "  </tbody>\n",
       "</table>\n",
       "</div>"
      ],
      "text/plain": [
       "    sarake1   sarake2   sarake3\n",
       "0  0.319219  0.380058  0.919389"
      ]
     },
     "execution_count": 29,
     "metadata": {},
     "output_type": "execute_result"
    }
   ],
   "source": [
    "first_row = dataframe.iloc[0:1]\n",
    "first_row"
   ]
  },
  {
   "cell_type": "markdown",
   "metadata": {},
   "source": [
    "#### Tehtävä 6. Pudota datasta  `Unnamed: 0` niminen sarake ja todenna lopputulos valitsemallasi tavalla"
   ]
  },
  {
   "cell_type": "code",
   "execution_count": 30,
   "metadata": {},
   "outputs": [
    {
     "data": {
      "text/html": [
       "<div>\n",
       "<style scoped>\n",
       "    .dataframe tbody tr th:only-of-type {\n",
       "        vertical-align: middle;\n",
       "    }\n",
       "\n",
       "    .dataframe tbody tr th {\n",
       "        vertical-align: top;\n",
       "    }\n",
       "\n",
       "    .dataframe thead th {\n",
       "        text-align: right;\n",
       "    }\n",
       "</style>\n",
       "<table border=\"1\" class=\"dataframe\">\n",
       "  <thead>\n",
       "    <tr style=\"text-align: right;\">\n",
       "      <th></th>\n",
       "      <th>sarake1</th>\n",
       "      <th>sarake2</th>\n",
       "      <th>sarake3</th>\n",
       "    </tr>\n",
       "  </thead>\n",
       "  <tbody>\n",
       "    <tr>\n",
       "      <th>0</th>\n",
       "      <td>0.319219</td>\n",
       "      <td>0.380058</td>\n",
       "      <td>0.919389</td>\n",
       "    </tr>\n",
       "    <tr>\n",
       "      <th>1</th>\n",
       "      <td>0.922251</td>\n",
       "      <td>0.490721</td>\n",
       "      <td>0.133932</td>\n",
       "    </tr>\n",
       "    <tr>\n",
       "      <th>2</th>\n",
       "      <td>0.073746</td>\n",
       "      <td>0.929162</td>\n",
       "      <td>0.962745</td>\n",
       "    </tr>\n",
       "    <tr>\n",
       "      <th>3</th>\n",
       "      <td>0.363707</td>\n",
       "      <td>0.878349</td>\n",
       "      <td>0.485700</td>\n",
       "    </tr>\n",
       "    <tr>\n",
       "      <th>4</th>\n",
       "      <td>0.106903</td>\n",
       "      <td>0.714651</td>\n",
       "      <td>0.039953</td>\n",
       "    </tr>\n",
       "  </tbody>\n",
       "</table>\n",
       "</div>"
      ],
      "text/plain": [
       "    sarake1   sarake2   sarake3\n",
       "0  0.319219  0.380058  0.919389\n",
       "1  0.922251  0.490721  0.133932\n",
       "2  0.073746  0.929162  0.962745\n",
       "3  0.363707  0.878349  0.485700\n",
       "4  0.106903  0.714651  0.039953"
      ]
     },
     "execution_count": 30,
     "metadata": {},
     "output_type": "execute_result"
    }
   ],
   "source": [
    "# dataframe = pd.read_csv(\"testidata.csv\", index_col = 0)\n",
    "# sarake poistettu lukemisen yhteydessä\n",
    "dataframe.head()"
   ]
  },
  {
   "cell_type": "markdown",
   "metadata": {},
   "source": [
    "#### Tehtävä 7. Poista rivit, jos sarakkeessa `sarake1` esiintyy arvo 0.2 tai pienempi"
   ]
  },
  {
   "cell_type": "code",
   "execution_count": 31,
   "metadata": {},
   "outputs": [
    {
     "data": {
      "text/html": [
       "<div>\n",
       "<style scoped>\n",
       "    .dataframe tbody tr th:only-of-type {\n",
       "        vertical-align: middle;\n",
       "    }\n",
       "\n",
       "    .dataframe tbody tr th {\n",
       "        vertical-align: top;\n",
       "    }\n",
       "\n",
       "    .dataframe thead th {\n",
       "        text-align: right;\n",
       "    }\n",
       "</style>\n",
       "<table border=\"1\" class=\"dataframe\">\n",
       "  <thead>\n",
       "    <tr style=\"text-align: right;\">\n",
       "      <th></th>\n",
       "      <th>sarake1</th>\n",
       "      <th>sarake2</th>\n",
       "      <th>sarake3</th>\n",
       "    </tr>\n",
       "  </thead>\n",
       "  <tbody>\n",
       "    <tr>\n",
       "      <th>0</th>\n",
       "      <td>0.319219</td>\n",
       "      <td>0.380058</td>\n",
       "      <td>0.919389</td>\n",
       "    </tr>\n",
       "    <tr>\n",
       "      <th>1</th>\n",
       "      <td>0.922251</td>\n",
       "      <td>0.490721</td>\n",
       "      <td>0.133932</td>\n",
       "    </tr>\n",
       "    <tr>\n",
       "      <th>3</th>\n",
       "      <td>0.363707</td>\n",
       "      <td>0.878349</td>\n",
       "      <td>0.485700</td>\n",
       "    </tr>\n",
       "    <tr>\n",
       "      <th>6</th>\n",
       "      <td>0.323134</td>\n",
       "      <td>0.036466</td>\n",
       "      <td>0.186775</td>\n",
       "    </tr>\n",
       "    <tr>\n",
       "      <th>7</th>\n",
       "      <td>0.467610</td>\n",
       "      <td>0.850993</td>\n",
       "      <td>0.377558</td>\n",
       "    </tr>\n",
       "    <tr>\n",
       "      <th>8</th>\n",
       "      <td>0.303299</td>\n",
       "      <td>0.096971</td>\n",
       "      <td>0.451031</td>\n",
       "    </tr>\n",
       "    <tr>\n",
       "      <th>9</th>\n",
       "      <td>0.733485</td>\n",
       "      <td>0.591996</td>\n",
       "      <td>0.658924</td>\n",
       "    </tr>\n",
       "    <tr>\n",
       "      <th>10</th>\n",
       "      <td>0.641628</td>\n",
       "      <td>0.251886</td>\n",
       "      <td>0.274987</td>\n",
       "    </tr>\n",
       "    <tr>\n",
       "      <th>12</th>\n",
       "      <td>0.319906</td>\n",
       "      <td>0.489200</td>\n",
       "      <td>0.990319</td>\n",
       "    </tr>\n",
       "    <tr>\n",
       "      <th>13</th>\n",
       "      <td>0.780267</td>\n",
       "      <td>0.458454</td>\n",
       "      <td>0.053428</td>\n",
       "    </tr>\n",
       "    <tr>\n",
       "      <th>15</th>\n",
       "      <td>0.935875</td>\n",
       "      <td>0.698276</td>\n",
       "      <td>0.446885</td>\n",
       "    </tr>\n",
       "    <tr>\n",
       "      <th>17</th>\n",
       "      <td>0.273193</td>\n",
       "      <td>0.300307</td>\n",
       "      <td>0.768270</td>\n",
       "    </tr>\n",
       "    <tr>\n",
       "      <th>18</th>\n",
       "      <td>0.467060</td>\n",
       "      <td>0.225161</td>\n",
       "      <td>0.911570</td>\n",
       "    </tr>\n",
       "    <tr>\n",
       "      <th>20</th>\n",
       "      <td>0.300589</td>\n",
       "      <td>0.455980</td>\n",
       "      <td>0.292225</td>\n",
       "    </tr>\n",
       "    <tr>\n",
       "      <th>21</th>\n",
       "      <td>0.859970</td>\n",
       "      <td>0.346539</td>\n",
       "      <td>0.364629</td>\n",
       "    </tr>\n",
       "    <tr>\n",
       "      <th>22</th>\n",
       "      <td>0.842364</td>\n",
       "      <td>0.093485</td>\n",
       "      <td>0.662066</td>\n",
       "    </tr>\n",
       "    <tr>\n",
       "      <th>23</th>\n",
       "      <td>0.781693</td>\n",
       "      <td>0.573344</td>\n",
       "      <td>0.815692</td>\n",
       "    </tr>\n",
       "    <tr>\n",
       "      <th>24</th>\n",
       "      <td>0.788949</td>\n",
       "      <td>0.945625</td>\n",
       "      <td>0.852690</td>\n",
       "    </tr>\n",
       "  </tbody>\n",
       "</table>\n",
       "</div>"
      ],
      "text/plain": [
       "     sarake1   sarake2   sarake3\n",
       "0   0.319219  0.380058  0.919389\n",
       "1   0.922251  0.490721  0.133932\n",
       "3   0.363707  0.878349  0.485700\n",
       "6   0.323134  0.036466  0.186775\n",
       "7   0.467610  0.850993  0.377558\n",
       "8   0.303299  0.096971  0.451031\n",
       "9   0.733485  0.591996  0.658924\n",
       "10  0.641628  0.251886  0.274987\n",
       "12  0.319906  0.489200  0.990319\n",
       "13  0.780267  0.458454  0.053428\n",
       "15  0.935875  0.698276  0.446885\n",
       "17  0.273193  0.300307  0.768270\n",
       "18  0.467060  0.225161  0.911570\n",
       "20  0.300589  0.455980  0.292225\n",
       "21  0.859970  0.346539  0.364629\n",
       "22  0.842364  0.093485  0.662066\n",
       "23  0.781693  0.573344  0.815692\n",
       "24  0.788949  0.945625  0.852690"
      ]
     },
     "execution_count": 31,
     "metadata": {},
     "output_type": "execute_result"
    }
   ],
   "source": [
    "dataframe = dataframe.loc[dataframe[\"sarake1\"] > 0.2]\n",
    "dataframe"
   ]
  },
  {
   "cell_type": "markdown",
   "metadata": {},
   "source": [
    "#### Tehtävä 8. Tulosta `sarake1` sarakkeen minimi- ja maksimiarvo"
   ]
  },
  {
   "cell_type": "code",
   "execution_count": 32,
   "metadata": {},
   "outputs": [
    {
     "name": "stdout",
     "output_type": "stream",
     "text": [
      "Min:  0.2731929006731526\n",
      "Max:  0.9358745961778226\n"
     ]
    }
   ],
   "source": [
    "column1 = dataframe[\"sarake1\"]\n",
    "print(\"Min: \", min(column1))\n",
    "print(\"Max: \", max(column1))"
   ]
  },
  {
   "cell_type": "markdown",
   "metadata": {},
   "source": [
    "#### Tehtävä 9. Tee ensimmäisen rivin ensimmäisen sarakkeen arvosta nan"
   ]
  },
  {
   "cell_type": "code",
   "execution_count": 33,
   "metadata": {},
   "outputs": [
    {
     "data": {
      "text/html": [
       "<div>\n",
       "<style scoped>\n",
       "    .dataframe tbody tr th:only-of-type {\n",
       "        vertical-align: middle;\n",
       "    }\n",
       "\n",
       "    .dataframe tbody tr th {\n",
       "        vertical-align: top;\n",
       "    }\n",
       "\n",
       "    .dataframe thead th {\n",
       "        text-align: right;\n",
       "    }\n",
       "</style>\n",
       "<table border=\"1\" class=\"dataframe\">\n",
       "  <thead>\n",
       "    <tr style=\"text-align: right;\">\n",
       "      <th></th>\n",
       "      <th>sarake1</th>\n",
       "      <th>sarake2</th>\n",
       "      <th>sarake3</th>\n",
       "    </tr>\n",
       "  </thead>\n",
       "  <tbody>\n",
       "    <tr>\n",
       "      <th>0</th>\n",
       "      <td>NaN</td>\n",
       "      <td>0.380058</td>\n",
       "      <td>0.919389</td>\n",
       "    </tr>\n",
       "    <tr>\n",
       "      <th>1</th>\n",
       "      <td>0.922251</td>\n",
       "      <td>0.490721</td>\n",
       "      <td>0.133932</td>\n",
       "    </tr>\n",
       "    <tr>\n",
       "      <th>3</th>\n",
       "      <td>0.363707</td>\n",
       "      <td>0.878349</td>\n",
       "      <td>0.485700</td>\n",
       "    </tr>\n",
       "  </tbody>\n",
       "</table>\n",
       "</div>"
      ],
      "text/plain": [
       "    sarake1   sarake2   sarake3\n",
       "0       NaN  0.380058  0.919389\n",
       "1  0.922251  0.490721  0.133932\n",
       "3  0.363707  0.878349  0.485700"
      ]
     },
     "execution_count": 33,
     "metadata": {},
     "output_type": "execute_result"
    }
   ],
   "source": [
    "dataframe.iloc[0, 0] = np.nan\n",
    "dataframe.head(3)"
   ]
  },
  {
   "cell_type": "markdown",
   "metadata": {},
   "source": [
    "#### Tehtävä 10. Tallenna lopputulos data_export.csv-nimiseen tiedostoon (tiedostoa hyödynnetään seuraavassa harjoituksessa)."
   ]
  },
  {
   "cell_type": "code",
   "execution_count": 34,
   "metadata": {},
   "outputs": [],
   "source": [
    "dataframe.to_csv(\"data_export.csv\")"
   ]
  },
  {
   "cell_type": "code",
   "execution_count": null,
   "metadata": {},
   "outputs": [],
   "source": []
  }
 ],
 "metadata": {
  "kernelspec": {
   "display_name": "Python 3",
   "language": "python",
   "name": "python3"
  },
  "language_info": {
   "codemirror_mode": {
    "name": "ipython",
    "version": 3
   },
   "file_extension": ".py",
   "mimetype": "text/x-python",
   "name": "python",
   "nbconvert_exporter": "python",
   "pygments_lexer": "ipython3",
   "version": "3.8.5"
  }
 },
 "nbformat": 4,
 "nbformat_minor": 4
}
